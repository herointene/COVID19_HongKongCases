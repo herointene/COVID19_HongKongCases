{
 "cells": [
  {
   "cell_type": "code",
   "execution_count": 21,
   "metadata": {},
   "outputs": [
    {
     "name": "stdout",
     "output_type": "stream",
     "text": [
      "Starting collect...\n",
      "Successfully saved csv file. The programe will shutdown in 5 seconds.\n",
      "done\n"
     ]
    }
   ],
   "source": [
    "import requests\n",
    "from urllib.parse import urlencode\n",
    "import pandas as pd\n",
    "import time\n",
    "\n",
    "def get_page():\n",
    "    headers = {\"user-agent\": \"Mozilla/5.0 (Windows NT 10.0; Win64; x64) AppleWebKit/537.36 (KHTML, like Gecko) Chrome/84.0.4147.89 Safari/537.36\"}\n",
    "    params = {\"f\": \"json\",\n",
    "              \"where\": \"1=1\",\n",
    "              \"returnGeometry\": \"false\",\n",
    "              \"spatialRel\": \"esriSpatialRelIntersects\",\n",
    "              \"outFields\": \"*\",\n",
    "              \"orderByFields\": \"個案編號 desc\",\n",
    "              \"resultOffset\": \"0\",\n",
    "              \"resultRecordCount\": \"30000\",\n",
    "              \"resultType\": \"standard\",\n",
    "              \"cacheHint\": \"true\"\n",
    "    }\n",
    "    url='https://services8.arcgis.com/PXQv9PaDJHzt8rp0/arcgis/rest/services/Merge_Display_0227_test_view/FeatureServer/0/query?'+ urlencode(params)\n",
    "    r = requests.get(url,headers=headers)\n",
    "    if r.status_code == 200:\n",
    "        content = r.json()\n",
    "    return content\n",
    "\n",
    "def save_to_csv(content):\n",
    "    cases = content['features']\n",
    "    df = pd.DataFrame([case.get('attributes')for case in cases])\n",
    "    date = time.strftime('%d_%m',time.localtime())\n",
    "    df.to_csv('covid19case_full_{}.csv'.format(date), index=False, encoding='utf-8-sig')  \n",
    "\n",
    "if __name__ == '__main__':\n",
    "    print('Starting collect...')\n",
    "    content = get_page()\n",
    "    save_to_csv(content)\n",
    "    print('Successfully saved csv file. The programe will shutdown in 5 seconds.')\n",
    "    time.sleep(5)\n",
    "    print('done')"
   ]
  }
 ],
 "metadata": {
  "kernelspec": {
   "display_name": "Python 3",
   "language": "python",
   "name": "python3"
  },
  "language_info": {
   "codemirror_mode": {
    "name": "ipython",
    "version": 3
   },
   "file_extension": ".py",
   "mimetype": "text/x-python",
   "name": "python",
   "nbconvert_exporter": "python",
   "pygments_lexer": "ipython3",
   "version": "3.7.7"
  },
  "toc": {
   "base_numbering": 1,
   "nav_menu": {},
   "number_sections": true,
   "sideBar": true,
   "skip_h1_title": false,
   "title_cell": "Table of Contents",
   "title_sidebar": "Contents",
   "toc_cell": false,
   "toc_position": {},
   "toc_section_display": true,
   "toc_window_display": false
  }
 },
 "nbformat": 4,
 "nbformat_minor": 4
}
